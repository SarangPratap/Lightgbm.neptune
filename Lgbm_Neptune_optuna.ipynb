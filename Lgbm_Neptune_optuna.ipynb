{
 "cells": [
  {
   "cell_type": "code",
   "execution_count": 1,
   "id": "dedcb773-cab3-40d7-ab14-0e468ff804f0",
   "metadata": {},
   "outputs": [],
   "source": [
    "import lightgbm as lgb\n",
    "import neptune\n",
    "import neptune.integrations.optuna as optuna_utils\n",
    "import optuna\n",
    "from sklearn.datasets import fetch_california_housing\n",
    "from sklearn.metrics import roc_auc_score\n",
    "from sklearn.model_selection import train_test_split\n",
    "from sklearn.metrics import mean_squared_error as mse"
   ]
  },
  {
   "cell_type": "code",
   "execution_count": 2,
   "id": "de719116-191b-4f7c-96af-043fee502b08",
   "metadata": {},
   "outputs": [],
   "source": [
    "data = fetch_california_housing(return_X_y=True)"
   ]
  },
  {
   "cell_type": "code",
   "execution_count": 3,
   "id": "78b4cfae-0a58-4fd5-bcef-a2770a98b525",
   "metadata": {},
   "outputs": [
    {
     "name": "stderr",
     "output_type": "stream",
     "text": [
      "[neptune] [warning] NeptuneWarning: The following monitoring options are disabled by default in interactive sessions: 'capture_stdout', 'capture_stderr', 'capture_traceback', and 'capture_hardware_metrics'. To enable them, set each parameter to 'True' when initializing the run. The monitoring will continue until you call run.stop() or the kernel stops. Also note: Your source files can only be tracked if you pass the path(s) to the 'source_code' argument. For help, see the Neptune docs: https://docs.neptune.ai/logging/source_code/\n"
     ]
    },
    {
     "name": "stdout",
     "output_type": "stream",
     "text": [
      "[neptune] [info   ] Neptune initialized. Open in the app: https://app.neptune.ai/common/optuna/e/NEP1-29142\n"
     ]
    },
    {
     "name": "stderr",
     "output_type": "stream",
     "text": [
      "C:\\Users\\Sarang\\anaconda3\\Lib\\site-packages\\neptune\\internal\\utils\\git.py:71: UserWarning: GitPython could not be initialized\n",
      "  warnings.warn(\"GitPython could not be initialized\")\n",
      "[I 2024-08-14 14:32:46,395] A new study created in memory with name: no-name-bc798a40-ea10-4a5e-ae0a-465c7f512d73\n",
      "[I 2024-08-14 14:32:46,613] Trial 0 finished with value: 1.3537379658315822 and parameters: {'learning_rate': 3.2070810286116916e-06, 'num_leaves': 44, 'max_depth': 39, 'min_data_in_leaf': 54, 'feature_fraction': 0.9845737507571285, 'bagging_fraction': 0.7824681879880189, 'bagging_freq': 2, 'lambda_l1': 9.034791243567664, 'lambda_l2': 0.24911457596254794}. Best is trial 0 with value: 1.3537379658315822.\n",
      "[W 2024-08-14 14:32:47,475] Param bagging_freq unique value length is less than 2.\n",
      "[W 2024-08-14 14:32:47,475] Param feature_fraction unique value length is less than 2.\n",
      "[W 2024-08-14 14:32:47,477] Param lambda_l1 unique value length is less than 2.\n",
      "[W 2024-08-14 14:32:47,477] Param lambda_l2 unique value length is less than 2.\n",
      "[W 2024-08-14 14:32:47,478] Param learning_rate unique value length is less than 2.\n",
      "[W 2024-08-14 14:32:47,479] Param max_depth unique value length is less than 2.\n",
      "[W 2024-08-14 14:32:47,480] Param min_data_in_leaf unique value length is less than 2.\n",
      "[W 2024-08-14 14:32:47,480] Param num_leaves unique value length is less than 2.\n",
      "[W 2024-08-14 14:32:47,482] Param bagging_fraction unique value length is less than 2.\n",
      "[W 2024-08-14 14:32:47,484] Param feature_fraction unique value length is less than 2.\n",
      "[W 2024-08-14 14:32:47,484] Param lambda_l1 unique value length is less than 2.\n",
      "[W 2024-08-14 14:32:47,485] Param lambda_l2 unique value length is less than 2.\n",
      "[W 2024-08-14 14:32:47,486] Param learning_rate unique value length is less than 2.\n",
      "[W 2024-08-14 14:32:47,486] Param max_depth unique value length is less than 2.\n",
      "[W 2024-08-14 14:32:47,487] Param min_data_in_leaf unique value length is less than 2.\n",
      "[W 2024-08-14 14:32:47,488] Param num_leaves unique value length is less than 2.\n",
      "[W 2024-08-14 14:32:47,488] Param bagging_fraction unique value length is less than 2.\n",
      "[W 2024-08-14 14:32:47,490] Param bagging_freq unique value length is less than 2.\n",
      "[W 2024-08-14 14:32:47,491] Param lambda_l1 unique value length is less than 2.\n",
      "[W 2024-08-14 14:32:47,491] Param lambda_l2 unique value length is less than 2.\n",
      "[W 2024-08-14 14:32:47,492] Param learning_rate unique value length is less than 2.\n",
      "[W 2024-08-14 14:32:47,492] Param max_depth unique value length is less than 2.\n",
      "[W 2024-08-14 14:32:47,494] Param min_data_in_leaf unique value length is less than 2.\n",
      "[W 2024-08-14 14:32:47,494] Param num_leaves unique value length is less than 2.\n",
      "[W 2024-08-14 14:32:47,495] Param bagging_fraction unique value length is less than 2.\n",
      "[W 2024-08-14 14:32:47,495] Param bagging_freq unique value length is less than 2.\n",
      "[W 2024-08-14 14:32:47,496] Param feature_fraction unique value length is less than 2.\n",
      "[W 2024-08-14 14:32:47,497] Param lambda_l2 unique value length is less than 2.\n",
      "[W 2024-08-14 14:32:47,498] Param learning_rate unique value length is less than 2.\n",
      "[W 2024-08-14 14:32:47,499] Param max_depth unique value length is less than 2.\n",
      "[W 2024-08-14 14:32:47,499] Param min_data_in_leaf unique value length is less than 2.\n",
      "[W 2024-08-14 14:32:47,499] Param num_leaves unique value length is less than 2.\n",
      "[W 2024-08-14 14:32:47,500] Param bagging_fraction unique value length is less than 2.\n",
      "[W 2024-08-14 14:32:47,501] Param bagging_freq unique value length is less than 2.\n",
      "[W 2024-08-14 14:32:47,502] Param feature_fraction unique value length is less than 2.\n",
      "[W 2024-08-14 14:32:47,503] Param lambda_l1 unique value length is less than 2.\n",
      "[W 2024-08-14 14:32:47,504] Param learning_rate unique value length is less than 2.\n",
      "[W 2024-08-14 14:32:47,506] Param max_depth unique value length is less than 2.\n",
      "[W 2024-08-14 14:32:47,506] Param min_data_in_leaf unique value length is less than 2.\n",
      "[W 2024-08-14 14:32:47,507] Param num_leaves unique value length is less than 2.\n",
      "[W 2024-08-14 14:32:47,508] Param bagging_fraction unique value length is less than 2.\n",
      "[W 2024-08-14 14:32:47,508] Param bagging_freq unique value length is less than 2.\n",
      "[W 2024-08-14 14:32:47,509] Param feature_fraction unique value length is less than 2.\n",
      "[W 2024-08-14 14:32:47,509] Param lambda_l1 unique value length is less than 2.\n",
      "[W 2024-08-14 14:32:47,510] Param lambda_l2 unique value length is less than 2.\n",
      "[W 2024-08-14 14:32:47,510] Param max_depth unique value length is less than 2.\n",
      "[W 2024-08-14 14:32:47,511] Param min_data_in_leaf unique value length is less than 2.\n",
      "[W 2024-08-14 14:32:47,511] Param num_leaves unique value length is less than 2.\n",
      "[W 2024-08-14 14:32:47,512] Param bagging_fraction unique value length is less than 2.\n",
      "[W 2024-08-14 14:32:47,512] Param bagging_freq unique value length is less than 2.\n",
      "[W 2024-08-14 14:32:47,512] Param feature_fraction unique value length is less than 2.\n",
      "[W 2024-08-14 14:32:47,513] Param lambda_l1 unique value length is less than 2.\n",
      "[W 2024-08-14 14:32:47,514] Param lambda_l2 unique value length is less than 2.\n",
      "[W 2024-08-14 14:32:47,515] Param learning_rate unique value length is less than 2.\n",
      "[W 2024-08-14 14:32:47,516] Param min_data_in_leaf unique value length is less than 2.\n",
      "[W 2024-08-14 14:32:47,517] Param num_leaves unique value length is less than 2.\n",
      "[W 2024-08-14 14:32:47,517] Param bagging_fraction unique value length is less than 2.\n",
      "[W 2024-08-14 14:32:47,518] Param bagging_freq unique value length is less than 2.\n",
      "[W 2024-08-14 14:32:47,519] Param feature_fraction unique value length is less than 2.\n",
      "[W 2024-08-14 14:32:47,520] Param lambda_l1 unique value length is less than 2.\n",
      "[W 2024-08-14 14:32:47,521] Param lambda_l2 unique value length is less than 2.\n",
      "[W 2024-08-14 14:32:47,522] Param learning_rate unique value length is less than 2.\n",
      "[W 2024-08-14 14:32:47,522] Param max_depth unique value length is less than 2.\n",
      "[W 2024-08-14 14:32:47,524] Param num_leaves unique value length is less than 2.\n",
      "[W 2024-08-14 14:32:47,525] Param bagging_fraction unique value length is less than 2.\n",
      "[W 2024-08-14 14:32:47,525] Param bagging_freq unique value length is less than 2.\n",
      "[W 2024-08-14 14:32:47,526] Param feature_fraction unique value length is less than 2.\n",
      "[W 2024-08-14 14:32:47,526] Param lambda_l1 unique value length is less than 2.\n",
      "[W 2024-08-14 14:32:47,527] Param lambda_l2 unique value length is less than 2.\n",
      "[W 2024-08-14 14:32:47,527] Param learning_rate unique value length is less than 2.\n",
      "[W 2024-08-14 14:32:47,528] Param max_depth unique value length is less than 2.\n",
      "[W 2024-08-14 14:32:47,530] Param min_data_in_leaf unique value length is less than 2.\n",
      "[I 2024-08-14 14:32:49,199] Trial 1 finished with value: 0.21603669850365476 and parameters: {'learning_rate': 0.17278552060801894, 'num_leaves': 136, 'max_depth': 25, 'min_data_in_leaf': 38, 'feature_fraction': 0.49179761510530584, 'bagging_fraction': 0.809642106617696, 'bagging_freq': 7, 'lambda_l1': 7.7612584917467, 'lambda_l2': 6.063940355807475}. Best is trial 1 with value: 0.21603669850365476.\n",
      "[I 2024-08-14 14:32:50,845] Trial 2 finished with value: 1.3359701149634051 and parameters: {'learning_rate': 2.775370503500572e-07, 'num_leaves': 180, 'max_depth': 28, 'min_data_in_leaf': 93, 'feature_fraction': 0.5492627730195015, 'bagging_fraction': 0.854911929155032, 'bagging_freq': 3, 'lambda_l1': 0.5726670787927512, 'lambda_l2': 4.419739245561645}. Best is trial 1 with value: 0.21603669850365476.\n",
      "[I 2024-08-14 14:32:52,431] Trial 3 finished with value: 0.3328375748054518 and parameters: {'learning_rate': 0.9142904153303596, 'num_leaves': 104, 'max_depth': 23, 'min_data_in_leaf': 32, 'feature_fraction': 0.8770774046860128, 'bagging_fraction': 0.8229447599374266, 'bagging_freq': 1, 'lambda_l1': 0.7637959883310275, 'lambda_l2': 7.2593503589273745}. Best is trial 1 with value: 0.21603669850365476.\n",
      "[I 2024-08-14 14:32:54,155] Trial 4 finished with value: 1.3620072901612383 and parameters: {'learning_rate': 7.836296378508214e-05, 'num_leaves': 219, 'max_depth': 21, 'min_data_in_leaf': 88, 'feature_fraction': 0.8802841634117435, 'bagging_fraction': 0.969495338946975, 'bagging_freq': 3, 'lambda_l1': 1.1928973848851476, 'lambda_l2': 0.10048628595435538}. Best is trial 1 with value: 0.21603669850365476.\n"
     ]
    },
    {
     "name": "stdout",
     "output_type": "stream",
     "text": [
      "[neptune] [info   ] Shutting down background jobs, please wait a moment...\n",
      "[neptune] [info   ] Done!\n",
      "[neptune] [info   ] Waiting for the remaining 424 operations to synchronize with Neptune. Do not kill this process.\n",
      "[neptune] [info   ] Still waiting for the remaining 168 operations (60.38% done). Please wait.\n",
      "[neptune] [info   ] All 424 operations synced, thanks for waiting!\n",
      "[neptune] [info   ] Explore the metadata in the Neptune app: https://app.neptune.ai/common/optuna/e/NEP1-29142/metadata\n"
     ]
    }
   ],
   "source": [
    "def objective(trial):\n",
    "    data, target = fetch_california_housing(return_X_y=True)\n",
    "    train_x, test_x, train_y, test_y = train_test_split(data, target, test_size=0.25)\n",
    "    dtrain = lgb.Dataset(train_x, label=train_y)\n",
    "\n",
    "    param = {\n",
    "        'boosting_type': 'gbdt',\n",
    "        'objective': 'regression',\n",
    "        'metric': 'mse',\n",
    "        'verbosity': -1,\n",
    "        'learning_rate': trial.suggest_float('learning_rate', 1e-8, 1.0, log=True),\n",
    "        'num_leaves': trial.suggest_int('num_leaves', 2, 256),\n",
    "        'max_depth': trial.suggest_int('max_depth', -1, 50),\n",
    "        'min_data_in_leaf': trial.suggest_int('min_data_in_leaf', 1, 100),\n",
    "        'feature_fraction': trial.suggest_float('feature_fraction', 0.4, 1.0),\n",
    "        'bagging_fraction': trial.suggest_float('bagging_fraction', 0.4, 1.0),\n",
    "        'bagging_freq': trial.suggest_int('bagging_freq', 1, 7),\n",
    "        'lambda_l1': trial.suggest_float('lambda_l1', 0.0, 10.0),\n",
    "        'lambda_l2': trial.suggest_float('lambda_l2', 0.0, 10.0),\n",
    "    }\n",
    "\n",
    "    gbm = lgb.train(param, dtrain)\n",
    "    preds = gbm.predict(test_x)\n",
    "    return mse(test_y, preds) \n",
    "\n",
    "\n",
    "# Create a Neptune run\n",
    "run = neptune.init_run(\n",
    "    api_token=neptune.ANONYMOUS_API_TOKEN,\n",
    "    project=\"common/optuna\",\n",
    "    tags=[\"quickstart\", \"study\", \"script\"],\n",
    ")\n",
    "\n",
    "# Create a NeptuneCallback for Optuna\n",
    "neptune_callback = optuna_utils.NeptuneCallback(run)\n",
    "\n",
    "# Pass NeptuneCallback to Optuna Study .optimize()\n",
    "study = optuna.create_study(direction=\"minimize\")\n",
    "study.optimize(objective, n_trials=5, callbacks=[neptune_callback])\n",
    "\n",
    "# Stop logging to a Neptune run\n",
    "run.stop()"
   ]
  },
  {
   "cell_type": "code",
   "execution_count": null,
   "id": "3d564e08-4bca-4f71-bbfa-026a7bdace17",
   "metadata": {},
   "outputs": [],
   "source": []
  }
 ],
 "metadata": {
  "kernelspec": {
   "display_name": "Python 3 (ipykernel)",
   "language": "python",
   "name": "python3"
  },
  "language_info": {
   "codemirror_mode": {
    "name": "ipython",
    "version": 3
   },
   "file_extension": ".py",
   "mimetype": "text/x-python",
   "name": "python",
   "nbconvert_exporter": "python",
   "pygments_lexer": "ipython3",
   "version": "3.11.5"
  }
 },
 "nbformat": 4,
 "nbformat_minor": 5
}
